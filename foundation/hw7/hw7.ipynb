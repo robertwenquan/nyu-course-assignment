{
 "cells": [
  {
   "cell_type": "markdown",
   "metadata": {},
   "source": [
    "#### 1. Prove or disprove: For all integers a,b,c,d, if a|b and c|d, then (ac)|(b+d).\n",
    "\n",
    "For a = 2, b = 4, c = 3, d = 12\n",
    "\n",
    "ac = 6, b+d = 16\n",
    "\n",
    "6|16 is false\n",
    "\n",
    "So the statement is false\n"
   ]
  },
  {
   "cell_type": "markdown",
   "metadata": {},
   "source": [
    "###### 2. Prove or disprove: For all integers a,b,c, if a|(b+c), then a|b and a|c.\n",
    "\n",
    "For a = 3, b = 2, c = 4, \n",
    "\n",
    "we have a|(b+c), but 3|2 and 3|4 are both false\n",
    "\n",
    "So the statement is false\n"
   ]
  },
  {
   "cell_type": "markdown",
   "metadata": {},
   "source": [
    "###### 3. Prove or disprove: For all integers a,b,c, if a|c and b|c, then ab|c2.\n",
    "\n",
    "As we have $$ a|c and b|c, so c = x1\\cdot a = x2\\cdot b$$\n",
    "\n",
    "$$c^2 = x1 \\cdot a \\cdot x2 \\cdot b = x1 \\cdot x2 \\cdot (ab) $$\n",
    "\n",
    "So we have $$ab|c^2$$\n"
   ]
  },
  {
   "cell_type": "markdown",
   "metadata": {},
   "source": [
    "###### 4. List all positive integers less than 30 that are relatively prime to 20.\n",
    "\n",
    "1 3 7 9 11 13 17 19 21 23 27 29"
   ]
  },
  {
   "cell_type": "code",
   "execution_count": 13,
   "metadata": {
    "collapsed": false
   },
   "outputs": [
    {
     "name": "stdout",
     "output_type": "stream",
     "text": [
      "1 3 7 9 11 13 17 19 21 23 27 29\n"
     ]
    }
   ],
   "source": [
    "factors = [2,4,5,10,20]\n",
    "\n",
    "result = []\n",
    "\n",
    "for num in range(1,30):\n",
    "    for factor in factors:\n",
    "        if num % factor == 0:\n",
    "            break\n",
    "    else:\n",
    "        result.append(str(num))\n",
    "\n",
    "print ' '.join(result)\n"
   ]
  },
  {
   "cell_type": "markdown",
   "metadata": {},
   "source": [
    "###### 5. Find gcd(20!,12!) by directly finding the largest divisor of both numbers.\n",
    "\n",
    "gcd = greatest common divisor\n",
    "\n",
    "20! = 12! * (13 * 14 * 15 * 16 * 17 * 18 * 19 * 20)\n",
    "\n",
    "So the gcd is 12!\n"
   ]
  },
  {
   "cell_type": "markdown",
   "metadata": {},
   "source": [
    "###### 6. Find $$lcm(2^89,2^346)$$ by directly finding the smallest positive multiple of both numbers.\n",
    "\n",
    "lcm = least common multiple\n",
    "\n",
    "As $$2^346 = 2^89 \\cdot 2^257$$\n",
    "So $$2^346$$ is $$lcm(2^89,2^346)$$"
   ]
  },
  {
   "cell_type": "code",
   "execution_count": 15,
   "metadata": {
    "collapsed": false
   },
   "outputs": [
    {
     "data": {
      "text/plain": [
       "257"
      ]
     },
     "execution_count": 15,
     "metadata": {},
     "output_type": "execute_result"
    }
   ],
   "source": [
    "346 - 89"
   ]
  },
  {
   "cell_type": "markdown",
   "metadata": {},
   "source": [
    "###### 7. Find 50! mod 50.\n",
    "\n",
    "$$ 50! mod 50 = (50 \\cdot 49!) mod 50 = 0 $$"
   ]
  },
  {
   "cell_type": "markdown",
   "metadata": {},
   "source": [
    "###### 8. Prove or disprove: The sum of two irrational numbers is irrational."
   ]
  },
  {
   "cell_type": "markdown",
   "metadata": {},
   "source": [
    "###### 9. Prove or disprove: If a and b are rational numbers (not equal to zero), then $$a^b$$ is rational.\n"
   ]
  },
  {
   "cell_type": "markdown",
   "metadata": {},
   "source": [
    "###### 10. Determine whether each of the following “theorems” is true or false. \n",
    "Assume that a,b,c,d, and m are integers with m>1. If a≡b(mod m), then 2a≡2b(mod 2m)."
   ]
  }
 ],
 "metadata": {
  "kernelspec": {
   "display_name": "Python 2",
   "language": "python",
   "name": "python2"
  },
  "language_info": {
   "codemirror_mode": {
    "name": "ipython",
    "version": 2
   },
   "file_extension": ".py",
   "mimetype": "text/x-python",
   "name": "python",
   "nbconvert_exporter": "python",
   "pygments_lexer": "ipython2",
   "version": "2.7.10"
  }
 },
 "nbformat": 4,
 "nbformat_minor": 0
}
