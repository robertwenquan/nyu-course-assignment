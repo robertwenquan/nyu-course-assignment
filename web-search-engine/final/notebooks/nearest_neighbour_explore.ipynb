{
 "cells": [
  {
   "cell_type": "markdown",
   "metadata": {},
   "source": [
    "## Clustering the images using k-means"
   ]
  },
  {
   "cell_type": "code",
   "execution_count": null,
   "metadata": {
    "collapsed": false
   },
   "outputs": [],
   "source": [
    "filename = 'result-wse_flickr.jsonl'\n",
    "filepath = '../tasks/03.image-crawl'\n",
    "\n",
    "import os\n",
    "\n",
    "filename = os.path.join(filepath, filename)\n",
    "print filename\n",
    "\n",
    "print os.path.exists(filename)\n",
    "\n",
    "# load the data\n",
    "# only get the data for query='bench'\n",
    "\n",
    "lines = open(filename).readlines()\n",
    "\n",
    "import json\n",
    "items = [json.loads(line) for line in lines]\n",
    "items = filter(lambda item: item.get('embeds') and item.get('query') == 'bird', items)\n",
    "print len(items)\n",
    "\n",
    "print items[0].keys()\n",
    "\n",
    "urls = [item['url'] for item in items]\n",
    "features = [item['embeds'] for item in items]\n",
    "\n",
    "print len(urls)\n",
    "print len(features)\n"
   ]
  },
  {
   "cell_type": "code",
   "execution_count": null,
   "metadata": {
    "collapsed": false
   },
   "outputs": [],
   "source": [
    "import numpy as np\n",
    "import matplotlib.pyplot as plt\n",
    "from mpl_toolkits.mplot3d import Axes3D\n",
    "\n",
    "from sklearn.cluster import KMeans\n",
    "from sklearn import datasets\n",
    "\n",
    "np.random.seed(5)\n",
    "\n",
    "from time import time\n",
    "import numpy as np\n",
    "import matplotlib.pyplot as plt\n",
    "\n",
    "from sklearn import metrics\n",
    "from sklearn.cluster import KMeans\n",
    "from sklearn.datasets import load_digits\n",
    "from sklearn.decomposition import PCA\n",
    "from sklearn.preprocessing import scale\n",
    "\n",
    "# convert data to nparray\n",
    "data = scale(np.array(features))\n",
    "print data.shape\n",
    "\n",
    "n_samples, n_features = data.shape\n",
    "k = 3\n",
    "\n",
    "k_means = KMeans(init='k-means++', n_clusters=k, n_init=10)\n",
    "k_means.fit(data)\n"
   ]
  },
  {
   "cell_type": "code",
   "execution_count": null,
   "metadata": {
    "collapsed": false
   },
   "outputs": [],
   "source": [
    "clustered_urls = [[], [], []]\n",
    "\n",
    "print clustered_urls\n",
    "\n",
    "it = np.nditer(k_means.labels_, flags=['f_index'])\n",
    "\n",
    "while not it.finished:\n",
    "    #print it.index, it[0], urls[it.index]\n",
    "    clustered_urls[it[0]].append(urls[it.index])\n",
    "    #print clustered_urls\n",
    "    it.iternext()\n",
    "\n",
    "for idx in range(k):\n",
    "    print 'count for %d: %d' % (idx, len(clustered_urls[idx]))\n",
    "\n",
    "print clustered_urls[0][:10]\n",
    "print\n",
    "print clustered_urls[1][:10]\n"
   ]
  },
  {
   "cell_type": "code",
   "execution_count": null,
   "metadata": {
    "collapsed": true
   },
   "outputs": [],
   "source": [
    "# plow multiple images\n",
    "\n",
    "\"\"\"\n",
    "plot image matrix\n",
    "\"\"\"\n",
    "\n",
    "# plot 3x3 picture matrix\n",
    "\n",
    "%matplotlib inline\n",
    "\n",
    "import numpy as np\n",
    "import matplotlib.pyplot as plt\n",
    "import requests\n",
    "import StringIO\n",
    "from matplotlib.pyplot import figure, show, axes, sci\n",
    "from PIL import Image\n",
    "\n",
    "\n",
    "def thumbnail(img):\n",
    "    \"\"\" generate 250x250 square thumbnail \"\"\"\n",
    "    \n",
    "    THUMB_SIZE = 250, 250\n",
    "    width, height = img.size\n",
    "\n",
    "    if width > height:\n",
    "        delta = width - height\n",
    "        left = int(delta/2)\n",
    "        upper = 0\n",
    "        right = height + left\n",
    "        lower = height\n",
    "    else:\n",
    "        delta = height - width\n",
    "        left = 0\n",
    "        upper = int(delta/2)\n",
    "        right = width\n",
    "        lower = width + upper\n",
    "\n",
    "    img = img.crop((left, upper, right, lower))\n",
    "    img.thumbnail(THUMB_SIZE, Image.ANTIALIAS)\n",
    "    \n",
    "    return img\n",
    "\n",
    "\n",
    "def plot_3x3(images, title = ''):\n",
    "    \"\"\"\n",
    "    given 9 images, plot them in 3x3 matrix\n",
    "    \"\"\"\n",
    "\n",
    "    plt.figure(figsize=(10,10))\n",
    "    \n",
    "    Nr = 3\n",
    "    Nc = 3\n",
    "    i = 0\n",
    "    \n",
    "    for image in images:\n",
    "        i += 1\n",
    "        img_io = requests.get(image)\n",
    "        plt.subplot(Nr, Nc, i)\n",
    "        \n",
    "        image = Image.open(StringIO.StringIO(img_io.content))\n",
    "        image = thumbnail(image)\n",
    "        \n",
    "        #img = io.imread(StringIO.StringIO(img_io.content))\n",
    "        plt.imshow(image)\n",
    "    \n",
    "    plt.show()\n"
   ]
  },
  {
   "cell_type": "code",
   "execution_count": null,
   "metadata": {
    "collapsed": false
   },
   "outputs": [],
   "source": [
    "# show the top 9 images for each cluster\n",
    "\n",
    "import skimage.io as io\n",
    "%matplotlib inline\n",
    "\n",
    "for cat in range(3):\n",
    "    img_urls = clustered_urls[cat][:9]\n",
    "    plot_3x3(img_urls, title = '9 samples for cluster %d' % cat)\n",
    "    print '---------------------'\n"
   ]
  },
  {
   "cell_type": "code",
   "execution_count": null,
   "metadata": {
    "collapsed": true
   },
   "outputs": [],
   "source": [
    "# get the nearest neighbour pictures\n",
    "\n",
    "import numpy\n",
    "from scipy.spatial import distance\n",
    "\n",
    "def sim_search_k_images(images_features, search_feature):\n",
    "    \"\"\"\n",
    "    images_features is an array of the features\n",
    "    search_feature is the feature to be searched for nearest neighbour\n",
    "    \n",
    "    use distance measure to get the k nearest neighbours\n",
    "    and return the indices of the samples\n",
    "    \"\"\"\n",
    "\n",
    "    idx = 0\n",
    "    results = []\n",
    "    for feature in images_features:\n",
    "        \n",
    "        if numpy.array_equal(feature, search_feature):\n",
    "            idx += 1\n",
    "            continue\n",
    "        \n",
    "        dst = distance.euclidean(search_feature, feature)\n",
    "        results.append((idx, dst))\n",
    "        idx += 1\n",
    "        \n",
    "    top_results = sorted(results, key=lambda x: x[1])[:9]\n",
    "    top_ids = [image[0] for image in top_results]\n",
    "    return top_ids\n"
   ]
  },
  {
   "cell_type": "code",
   "execution_count": null,
   "metadata": {
    "collapsed": false,
    "scrolled": false
   },
   "outputs": [],
   "source": [
    "ids = sim_search_k_images(data, data[56])\n",
    "print ids\n",
    "\n",
    "img_urls = [urls[id] for id in ids]\n",
    "print img_urls\n",
    "\n",
    "plot_3x3(img_urls)"
   ]
  }
 ],
 "metadata": {
  "kernelspec": {
   "display_name": "Python 2",
   "language": "python",
   "name": "python2"
  },
  "language_info": {
   "codemirror_mode": {
    "name": "ipython",
    "version": 2
   },
   "file_extension": ".py",
   "mimetype": "text/x-python",
   "name": "python",
   "nbconvert_exporter": "python",
   "pygments_lexer": "ipython2",
   "version": "2.7.10"
  }
 },
 "nbformat": 4,
 "nbformat_minor": 0
}
