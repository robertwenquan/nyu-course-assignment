{
 "cells": [
  {
   "cell_type": "markdown",
   "metadata": {},
   "source": [
    "## Clustering the images using k-means"
   ]
  },
  {
   "cell_type": "code",
   "execution_count": null,
   "metadata": {
    "collapsed": false
   },
   "outputs": [],
   "source": [
    "filename = 'result-wse_flickr.jsonl'\n",
    "filepath = '../tasks/03.image-crawl'\n",
    "\n",
    "import os\n",
    "\n",
    "filename = os.path.join(filepath, filename)\n",
    "print filename\n",
    "\n",
    "print os.path.exists(filename)"
   ]
  },
  {
   "cell_type": "code",
   "execution_count": null,
   "metadata": {
    "collapsed": false
   },
   "outputs": [],
   "source": [
    "# load the data\n",
    "# only get the data for query='bench'\n",
    "\n",
    "lines = open(filename).readlines()\n",
    "print len(lines)\n",
    "\n",
    "import json\n",
    "items = [json.loads(line) for line in lines]\n",
    "items = filter(lambda item: item.get('embeds') and item.get('query') == 'bird', items)\n",
    "print len(items)\n",
    "\n",
    "print items[0].keys()\n"
   ]
  },
  {
   "cell_type": "code",
   "execution_count": null,
   "metadata": {
    "collapsed": false
   },
   "outputs": [],
   "source": [
    "urls = [item['url'] for item in items]\n",
    "features = [item['embeds'] for item in items]\n",
    "\n",
    "print len(urls)\n",
    "print len(features)\n",
    "\n",
    "print urls[0]\n",
    "print \"dimension\", len(features[0])\n",
    "#print features[0]"
   ]
  },
  {
   "cell_type": "code",
   "execution_count": null,
   "metadata": {
    "collapsed": true
   },
   "outputs": [],
   "source": [
    "import numpy as np\n",
    "import matplotlib.pyplot as plt\n",
    "from mpl_toolkits.mplot3d import Axes3D\n",
    "\n",
    "from sklearn.cluster import KMeans\n",
    "from sklearn import datasets\n",
    "\n",
    "np.random.seed(5)\n",
    "\n",
    "from time import time\n",
    "import numpy as np\n",
    "import matplotlib.pyplot as plt\n",
    "\n",
    "from sklearn import metrics\n",
    "from sklearn.cluster import KMeans\n",
    "from sklearn.datasets import load_digits\n",
    "from sklearn.decomposition import PCA\n",
    "from sklearn.preprocessing import scale\n",
    "\n",
    "#digits = load_digits()\n",
    "#data = scale(digits.data)\n"
   ]
  },
  {
   "cell_type": "code",
   "execution_count": null,
   "metadata": {
    "collapsed": false
   },
   "outputs": [],
   "source": [
    "# convert data to nparray\n",
    "data = scale(np.array(features))\n"
   ]
  },
  {
   "cell_type": "code",
   "execution_count": null,
   "metadata": {
    "collapsed": false
   },
   "outputs": [],
   "source": [
    "data.shape\n",
    "\n",
    "labels = np.array(urls)\n",
    "print labels.shape\n"
   ]
  },
  {
   "cell_type": "code",
   "execution_count": null,
   "metadata": {
    "collapsed": false
   },
   "outputs": [],
   "source": [
    "print data.shape\n",
    "\n",
    "n_samples, n_features = data.shape\n",
    "k = 3\n",
    "\n",
    "k_means = KMeans(init='k-means++', n_clusters=k, n_init=10)\n",
    "k_means.fit(data)\n"
   ]
  },
  {
   "cell_type": "code",
   "execution_count": null,
   "metadata": {
    "collapsed": false
   },
   "outputs": [],
   "source": [
    "print(k_means.labels_[:100])\n"
   ]
  },
  {
   "cell_type": "code",
   "execution_count": null,
   "metadata": {
    "collapsed": false
   },
   "outputs": [],
   "source": [
    "# plot the top images in each cluster\n",
    "\n",
    "%matplotlib inline\n",
    "\n",
    "import matplotlib.pyplot as plt\n",
    "import matplotlib.image as mpimg\n",
    "import numpy as np\n",
    "\n",
    "from PIL import Image\n",
    "import requests\n",
    "import StringIO\n",
    "\n",
    "img_io = requests.get(urls[0][:10][0])\n",
    "img = Image.open(StringIO.StringIO(img_io.content))\n",
    "resized = img.thumbnail((80, 80), Image.ANTIALIAS)\n",
    "print 'sss'\n",
    "plt.imshow(img)\n",
    "plt.show()"
   ]
  },
  {
   "cell_type": "code",
   "execution_count": null,
   "metadata": {
    "collapsed": false
   },
   "outputs": [],
   "source": [
    "clustered_urls = [[], [], []]\n",
    "\n",
    "print clustered_urls\n",
    "\n",
    "it = np.nditer(k_means.labels_, flags=['f_index'])\n",
    "\n",
    "while not it.finished:\n",
    "    #print it.index, it[0], urls[it.index]\n",
    "    clustered_urls[it[0]].append(urls[it.index])\n",
    "    #print clustered_urls\n",
    "    it.iternext()\n",
    "\n",
    "for idx in range(k):\n",
    "    print 'count for %d: %d' % (idx, len(clustered_urls[idx]))\n",
    "\n",
    "print clustered_urls[0][:10]\n",
    "print\n",
    "print clustered_urls[1][:10]\n"
   ]
  },
  {
   "cell_type": "code",
   "execution_count": null,
   "metadata": {
    "collapsed": false,
    "scrolled": false
   },
   "outputs": [],
   "source": []
  },
  {
   "cell_type": "code",
   "execution_count": null,
   "metadata": {
    "collapsed": false,
    "scrolled": true
   },
   "outputs": [],
   "source": [
    "# get the nearest neighbour pictures\n",
    "\n",
    "import numpy\n",
    "from scipy.spatial import distance\n",
    "\n",
    "def sim_search_k_images(images_features, search_feature):\n",
    "    \"\"\"\n",
    "    images_features is an array of the features\n",
    "    search_feature is the feature to be searched for nearest neighbour\n",
    "    \n",
    "    use distance measure to get the k nearest neighbours\n",
    "    and return the indices of the samples\n",
    "    \"\"\"\n",
    "\n",
    "    idx = 0\n",
    "    results = []\n",
    "    for feature in images_features:\n",
    "        \n",
    "        if numpy.array_equal(feature, search_feature):\n",
    "            idx += 1\n",
    "            continue\n",
    "        \n",
    "        dst = distance.euclidean(search_feature, feature)\n",
    "        results.append((idx, dst))\n",
    "        idx += 1\n",
    "        \n",
    "    top_results = sorted(results, key=lambda x: x[1])[:9]\n",
    "    top_ids = [image[0] for image in top_results]\n",
    "    return top_ids\n"
   ]
  },
  {
   "cell_type": "code",
   "execution_count": null,
   "metadata": {
    "collapsed": true
   },
   "outputs": [],
   "source": [
    "# plot 3x3 picture matrix\n",
    "\n",
    "import skimage.io as io\n",
    "%matplotlib inline\n",
    "\n",
    "from matplotlib.pyplot import figure, show, axes, sci\n",
    "from matplotlib import cm, colors\n",
    "from matplotlib.font_manager import FontProperties\n",
    "from numpy import amin, amax, ravel\n",
    "from numpy.random import rand\n",
    "\n",
    "def plot_3x3(images, title = ''):\n",
    "    \"\"\"\n",
    "    given 9 images, plot them in 3x3 matrix\n",
    "    \"\"\"\n",
    "\n",
    "    img_bytes = []\n",
    "    for image in images:\n",
    "        img_io = requests.get(image)\n",
    "        \n",
    "        img = io.imread(StringIO.StringIO(img_io.content))\n",
    "        img_bytes.append(img)\n",
    "        \"\"\"\n",
    "        io.imshow(img)\n",
    "        io.show()\n",
    "        \"\"\"\n",
    "\n",
    "    Nr = 3\n",
    "    Nc = 3\n",
    "\n",
    "    fig = figure()\n",
    "    cmap = cm.cool\n",
    "\n",
    "    figtitle = title\n",
    "    t = fig.text(0.70, 1.50, figtitle,\n",
    "                 horizontalalignment='center',\n",
    "                 fontproperties=FontProperties(size=16))\n",
    "\n",
    "    cax = fig.add_axes([0.2, 0.08, 0.6, 0.04])\n",
    "\n",
    "    w = 0.4\n",
    "    h = 0.4\n",
    "    ax = []\n",
    "    images = []\n",
    "    for i in range(Nr):\n",
    "        for j in range(Nc):\n",
    "            pos = [0.075 + j*1.1*w, 0.18 + i*1.1*h, w, h]\n",
    "            a = fig.add_axes(pos)\n",
    "            if i > 0:\n",
    "                a.set_xticklabels([])\n",
    "\n",
    "            # Make some fake data with a range that varies\n",
    "            # somewhat from one plot to the next.\n",
    "            data = img_bytes.pop(0)\n",
    "\n",
    "            images.append(a.imshow(data, cmap=cmap))\n",
    "\n",
    "            ax.append(a)\n",
    "\n",
    "    show()"
   ]
  },
  {
   "cell_type": "code",
   "execution_count": null,
   "metadata": {
    "collapsed": false
   },
   "outputs": [],
   "source": [
    "# show the top 9 images for each cluster\n",
    "\n",
    "import skimage.io as io\n",
    "%matplotlib inline\n",
    "\n",
    "for cat in range(3):\n",
    "    img_urls = clustered_urls[cat][:9]\n",
    "    plot_3x3(img_urls, title = '9 samples for cluster %d' % cat)\n",
    "    print '---------------------'\n"
   ]
  },
  {
   "cell_type": "code",
   "execution_count": null,
   "metadata": {
    "collapsed": false,
    "scrolled": false
   },
   "outputs": [],
   "source": [
    "ids = sim_search_k_images(data, data[222])\n",
    "print ids\n",
    "\n",
    "img_urls = [urls[id] for id in ids]\n",
    "print img_urls\n",
    "\n",
    "plot_3x3(img_urls)"
   ]
  },
  {
   "cell_type": "code",
   "execution_count": null,
   "metadata": {
    "collapsed": false
   },
   "outputs": [],
   "source": []
  }
 ],
 "metadata": {
  "kernelspec": {
   "display_name": "Python 2",
   "language": "python",
   "name": "python2"
  },
  "language_info": {
   "codemirror_mode": {
    "name": "ipython",
    "version": 2
   },
   "file_extension": ".py",
   "mimetype": "text/x-python",
   "name": "python",
   "nbconvert_exporter": "python",
   "pygments_lexer": "ipython2",
   "version": "2.7.10"
  }
 },
 "nbformat": 4,
 "nbformat_minor": 0
}
