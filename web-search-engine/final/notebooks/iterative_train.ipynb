{
 "cells": [
  {
   "cell_type": "markdown",
   "metadata": {},
   "source": [
    "## Iterative Training\n",
    "\n",
    "This is the step-by-step iterative visual model training based on the crawled data.\n",
    "\n",
    "Based on how many pictures are needed for the crawl, there will be different number of models trained for filtering against the image candidates.\n",
    "\n",
    "The precision will be measured afterwords for each iteration."
   ]
  },
  {
   "cell_type": "code",
   "execution_count": null,
   "metadata": {
    "collapsed": true
   },
   "outputs": [],
   "source": [
    "\"\"\"\n",
    "Data samples from multiple sources\n",
    "\n",
    "1. 100 seed images from google image\n",
    "2. 1000 images from google and possibly Flickr\n",
    "3. 10000 images from google, Flickr\n",
    "\"\"\"\n",
    "\n",
    "# 485 results from google image search\n",
    "results_google = 'tasks/03.image-crawl/result-wse_google_bird.jsonl'\n",
    "\n",
    "# 119784 results with good varieties, serving as negative examples\n",
    "results_non_samples = 'tasks/03.image-crawl/result-wse_non_samples-100k.jsonl'\n",
    "\n",
    "# "
   ]
  },
  {
   "cell_type": "code",
   "execution_count": 2,
   "metadata": {
    "collapsed": true
   },
   "outputs": [],
   "source": [
    "# plow multiple images\n",
    "\n",
    "\"\"\"\n",
    "plot image matrix\n",
    "\"\"\"\n",
    "\n",
    "# plot 3x3 picture matrix\n",
    "\n",
    "%matplotlib inline\n",
    "\n",
    "import numpy as np\n",
    "import matplotlib.pyplot as plt\n",
    "import requests\n",
    "import StringIO\n",
    "from matplotlib.pyplot import figure, show, axes, sci\n",
    "from PIL import Image\n",
    "\n",
    "\n",
    "def thumbnail(img):\n",
    "    \"\"\" generate 250x250 square thumbnail \"\"\"\n",
    "    \n",
    "    THUMB_SIZE = 250, 250\n",
    "    width, height = img.size\n",
    "\n",
    "    if width > height:\n",
    "        delta = width - height\n",
    "        left = int(delta/2)\n",
    "        upper = 0\n",
    "        right = height + left\n",
    "        lower = height\n",
    "    else:\n",
    "        delta = height - width\n",
    "        left = 0\n",
    "        upper = int(delta/2)\n",
    "        right = width\n",
    "        lower = width + upper\n",
    "\n",
    "    img = img.crop((left, upper, right, lower))\n",
    "    img.thumbnail(THUMB_SIZE, Image.ANTIALIAS)\n",
    "    \n",
    "    return img\n",
    "\n",
    "\n",
    "def plot_3x3(images, title = ''):\n",
    "    \"\"\"\n",
    "    given 9 images, plot them in 3x3 matrix\n",
    "    \"\"\"\n",
    "\n",
    "    plt.figure(figsize=(10,10))\n",
    "    \n",
    "    Nr = 3\n",
    "    Nc = 3\n",
    "    i = 0\n",
    "    \n",
    "    for image in images:\n",
    "        i += 1\n",
    "        img_io = requests.get(image)\n",
    "        plt.subplot(Nr, Nc, i)\n",
    "        \n",
    "        image = Image.open(StringIO.StringIO(img_io.content))\n",
    "        image = thumbnail(image)\n",
    "        \n",
    "        #img = io.imread(StringIO.StringIO(img_io.content))\n",
    "        plt.imshow(image)\n",
    "    \n",
    "    plt.show()\n"
   ]
  },
  {
   "cell_type": "code",
   "execution_count": null,
   "metadata": {
    "collapsed": true
   },
   "outputs": [],
   "source": []
  }
 ],
 "metadata": {
  "kernelspec": {
   "display_name": "Python 2",
   "language": "python",
   "name": "python2"
  },
  "language_info": {
   "codemirror_mode": {
    "name": "ipython",
    "version": 2
   },
   "file_extension": ".py",
   "mimetype": "text/x-python",
   "name": "python",
   "nbconvert_exporter": "python",
   "pygments_lexer": "ipython2",
   "version": "2.7.10"
  }
 },
 "nbformat": 4,
 "nbformat_minor": 0
}
