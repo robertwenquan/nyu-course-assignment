{
 "cells": [
  {
   "cell_type": "markdown",
   "metadata": {},
   "source": [
    "### Input Common Crawl Data\n",
    "\n",
    "The July 2015 CC data is about 1.8 billion pages and 1\n",
    "http://cis.poly.edu/cs6913/ccrawl.pdf\n",
    "\n",
    "\n",
    "```\n",
    "$ aws s3 ls s3://aws-publicdatasets/common-crawl/crawl-data/CC-MAIN-2015-32/segments/1438042981921.1/\n",
    "                           PRE warc/\n",
    "                           PRE wat/\n",
    "                           PRE wet/\n",
    "                       \n",
    "```\n",
    "\n",
    "There are 343 files under s3://aws-publicdatasets/common-crawl/crawl-data/CC-MAIN-2015-32/segments/1438042981921.1/wet/\n",
    "\n",
    "343 * 110 MB = 37.7 GB (gz format)\n",
    "343 * 250 MB = 85.7 GB (uncompressed format)\n",
    "\n",
    "My harddisk is not good enough to hold all the files so we start with 3 files:\n",
    "\n",
    "2015-08-07 23:28:27  105118243 CC-MAIN-20150728002301-00340-ip-10-236-191-2.ec2.internal.warc.wet.gz\n",
    "2015-08-07 23:10:34  109369777 CC-MAIN-20150728002301-00341-ip-10-236-191-2.ec2.internal.warc.wet.gz\n",
    "2015-08-07 23:12:07  105760895 CC-MAIN-20150728002301-00342-ip-10-236-191-2.ec2.internal.warc.wet.gz\n",
    "\n"
   ]
  }
 ],
 "metadata": {
  "kernelspec": {
   "display_name": "Python 2",
   "language": "python",
   "name": "python2"
  },
  "language_info": {
   "codemirror_mode": {
    "name": "ipython",
    "version": 2
   },
   "file_extension": ".py",
   "mimetype": "text/x-python",
   "name": "python",
   "nbconvert_exporter": "python",
   "pygments_lexer": "ipython2",
   "version": "2.7.10"
  }
 },
 "nbformat": 4,
 "nbformat_minor": 0
}
