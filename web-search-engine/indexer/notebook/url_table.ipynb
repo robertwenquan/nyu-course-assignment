{
 "cells": [
  {
   "cell_type": "code",
   "execution_count": 22,
   "metadata": {
    "collapsed": false
   },
   "outputs": [
    {
     "name": "stdout",
     "output_type": "stream",
     "text": [
      "1657536\n",
      "4489313\n",
      "32\n",
      "32 25\n",
      "1 http://010101.pro-4u.com/\n",
      "64 29\n",
      "2 http://01sj.org/art/artworks/\n",
      "96 109\n",
      "3 http://0x20.be/smw/index.php?title=Special:RecentChangesLinked&from=20121211142635&target=Property%3AHas_cost\n",
      "128 33\n",
      "4 http://100cameltoe.com/?id=voyman\n",
      "160 83\n",
      "5 http://1023blakefm.com/what-the-nine-month-old-arrested-for-attempted-murder-video/\n",
      "192 50\n",
      "6 http://1037theloon.com/tags/richie-sambora/page/2/\n",
      "224 60\n",
      "7 http://103gbfrocks.com/new-movies-the-heat-white-house-down/\n"
     ]
    }
   ],
   "source": [
    "# The url table is defined by two files\n",
    "# 1. url index\n",
    "#   docid, (url_fileid, url_offset, url_lens), \n",
    "#          (doc_fileid, doc_offset, doc_length, content_offset, content_length)\n",
    "# 2. url content\n",
    "#   <length, url>, <length, url>\n",
    "\n",
    "from struct import unpack_from, calcsize\n",
    "\n",
    "FILE1 = '/tmp/url_table.idx'\n",
    "FILE2 = '/tmp/url_table.urls'\n",
    "\n",
    "data1 = open(FILE1).read()\n",
    "data2 = open(FILE2).read()\n",
    "\n",
    "print(len(data1))\n",
    "print(len(data2))\n",
    "\n",
    "offset = 0\n",
    "rec_size = calcsize('ihihhiihi')\n",
    "print rec_size\n",
    "while (offset < len(data1) and offset < 200):\n",
    "    one = unpack_from('ihihhiihi', data1, offset)\n",
    "    docid, _, url_offset, url_lens, _, _, _, _, _ = one\n",
    "    offset += rec_size\n",
    "    print offset, url_lens\n",
    "    print docid, data2[url_offset+2:url_offset+2+url_lens]\n",
    "    \n",
    "#### verified the URL index file looks right ####\n"
   ]
  }
 ],
 "metadata": {
  "kernelspec": {
   "display_name": "Python 2",
   "language": "python",
   "name": "python2"
  },
  "language_info": {
   "codemirror_mode": {
    "name": "ipython",
    "version": 2
   },
   "file_extension": ".py",
   "mimetype": "text/x-python",
   "name": "python",
   "nbconvert_exporter": "python",
   "pygments_lexer": "ipython2",
   "version": "2.7.10"
  }
 },
 "nbformat": 4,
 "nbformat_minor": 0
}
