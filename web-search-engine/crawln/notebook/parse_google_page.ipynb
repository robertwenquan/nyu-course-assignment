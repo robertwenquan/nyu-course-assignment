{
 "cells": [
  {
   "cell_type": "markdown",
   "metadata": {},
   "source": [
    "### Parse google page"
   ]
  },
  {
   "cell_type": "code",
   "execution_count": 1,
   "metadata": {
    "collapsed": false
   },
   "outputs": [
    {
     "name": "stdout",
     "output_type": "stream",
     "text": [
      "/url?q=https://en.wikipedia.org/wiki/Web_search_engine&sa=U&ved=0CBQQFjAAahUKEwjdoNTKge7HAhWENT4KHSRjD_U&usg=AFQjCNG6YikL3ZZu-F7scxOaz4uVKbyv-w\n",
      "/url?q=http://webcache.googleusercontent.com/search%3Fq%3Dcache:lH52nVzm4RMJ:https://en.wikipedia.org/wiki/Web_search_engine%252Bweb%252Bsearch%252Bengine%26hl%3Den%26%26ct%3Dclnk&sa=U&ved=0CBcQIDAAahUKEwjdoNTKge7HAhWENT4KHSRjD_U&usg=AFQjCNEK04pQCt7J9sdoILjjc-pgz3N0fQ\n",
      "/url?q=https://en.wikipedia.org/wiki/Lycos&sa=U&ved=0CBkQ0gIoADAAahUKEwjdoNTKge7HAhWENT4KHSRjD_U&usg=AFQjCNFjfQVBLN5gmPKs02rywhm8YyYKkw\n",
      "/url?q=https://en.wikipedia.org/wiki/Bing&sa=U&ved=0CBoQ0gIoATAAahUKEwjdoNTKge7HAhWENT4KHSRjD_U&usg=AFQjCNFZnLHs2RByIoF4ZRUyKvf1NPpc9Q\n",
      "/url?q=https://en.wikipedia.org/wiki/WebCrawler&sa=U&ved=0CBsQ0gIoAjAAahUKEwjdoNTKge7HAhWENT4KHSRjD_U&usg=AFQjCNHpqpgUK9YlLpKsNehRzIIVdRimtg\n",
      "/url?q=https://en.wikipedia.org/wiki/Ask.com&sa=U&ved=0CBwQ0gIoAzAAahUKEwjdoNTKge7HAhWENT4KHSRjD_U&usg=AFQjCNHqmhZWu_R0imETPZUK8As4J4aYjA\n",
      "/url?q=https://duckduckgo.com/&sa=U&ved=0CB4QFjABahUKEwjdoNTKge7HAhWENT4KHSRjD_U&usg=AFQjCNFS_99F3sxXUK8VsfZJsiUDA9SAog\n",
      "/url?q=http://webcache.googleusercontent.com/search%3Fq%3Dcache:PGurkkGBmpIJ:https://duckduckgo.com/%252Bweb%252Bsearch%252Bengine%26hl%3Den%26%26ct%3Dclnk&sa=U&ved=0CCEQIDABahUKEwjdoNTKge7HAhWENT4KHSRjD_U&usg=AFQjCNEPHYqWXwWZ7OvGimfONS2E4aRODA\n",
      "/url?q=https://duckduckgo.com/about&sa=U&ved=0CCQQ0gIoADABahUKEwjdoNTKge7HAhWENT4KHSRjD_U&usg=AFQjCNHwK9-WtEaC4AWMp2yKEnt9ikVcnQ\n",
      "/url?q=https://duckduckgo.com/settings&sa=U&ved=0CCUQ0gIoATABahUKEwjdoNTKge7HAhWENT4KHSRjD_U&usg=AFQjCNGm_pTgw8HRMVepJsAz61Pw05p7fw\n",
      "/url?q=https://duckduckgo.com/tour&sa=U&ved=0CCYQ0gIoAjABahUKEwjdoNTKge7HAhWENT4KHSRjD_U&usg=AFQjCNHJuc73K3NqsgmO93_oqpkeXsPyuw\n",
      "/url?q=https://duckduckgo.com/spread&sa=U&ved=0CCcQ0gIoAzABahUKEwjdoNTKge7HAhWENT4KHSRjD_U&usg=AFQjCNGa_WuxNDt7qVBXCDdNc1an_u2YPg\n",
      "/url?q=http://www.dogpile.com/&sa=U&ved=0CCkQFjACahUKEwjdoNTKge7HAhWENT4KHSRjD_U&usg=AFQjCNEHsRGVeg1fFCt9617ARekFQa2idA\n",
      "/url?q=http://webcache.googleusercontent.com/search%3Fq%3Dcache:nniPVUeqkjwJ:http://www.dogpile.com/%252Bweb%252Bsearch%252Bengine%26hl%3Den%26%26ct%3Dclnk&sa=U&ved=0CCwQIDACahUKEwjdoNTKge7HAhWENT4KHSRjD_U&usg=AFQjCNG36HYFix-UyBG8dmWBWBogo1yWlg\n",
      "/url?q=https://ixquick.com/&sa=U&ved=0CC8QFjADahUKEwjdoNTKge7HAhWENT4KHSRjD_U&usg=AFQjCNGdokr4gQnFTYb4pR38UUTMRFRuIw\n",
      "/url?q=http://webcache.googleusercontent.com/search%3Fq%3Dcache:jUgeTrJ8PJkJ:https://ixquick.com/%252Bweb%252Bsearch%252Bengine%26hl%3Den%26%26ct%3Dclnk&sa=U&ved=0CDIQIDADahUKEwjdoNTKge7HAhWENT4KHSRjD_U&usg=AFQjCNFvApuu5dC0v_K_dFpNLriSpbA1bQ\n",
      "/url?q=https://en.wikipedia.org/wiki/Web_search_engine&sa=U&ved=0CDcQwW4wBGoVChMI3aDUyoHuxwIVhDU-Ch0kYw_1&usg=AFQjCNG6YikL3ZZu-F7scxOaz4uVKbyv-w\n",
      "/url?q=http://www.brightworkweb.com/search-engine-optimization-42.html&sa=U&ved=0CDkQwW4wBWoVChMI3aDUyoHuxwIVhDU-Ch0kYw_1&usg=AFQjCNF0kh7I0P7jm0shLoHTJ5yMXJVq8g\n",
      "/url?q=https://cherryoneweb.com/&sa=U&ved=0CDsQwW4wBmoVChMI3aDUyoHuxwIVhDU-Ch0kYw_1&usg=AFQjCNGO-Ftu0a1-2sKvTUtNmj23eJTOqQ\n",
      "/url?q=http://computer.howstuffworks.com/internet/basics/search-engine1.htm&sa=U&ved=0CD0QwW4wB2oVChMI3aDUyoHuxwIVhDU-Ch0kYw_1&usg=AFQjCNFQzL3AgMiFU0Bh5n3JI2UpqArHCg\n",
      "/url?q=http://www.decrux.com/search-engine-submission.jsp&sa=U&ved=0CD8QwW4wCGoVChMI3aDUyoHuxwIVhDU-Ch0kYw_1&usg=AFQjCNGbPosUveUp5s9sbtdeJ2UifRiVeQ\n",
      "/url?q=http://www.philb.com/webse.htm&sa=U&ved=0CEEQFjAJahUKEwjdoNTKge7HAhWENT4KHSRjD_U&usg=AFQjCNEXbZR0rrzJFmOuA1EnE0IqSmuIhg\n",
      "/url?q=http://webcache.googleusercontent.com/search%3Fq%3Dcache:t4Bz5omj-ZwJ:http://www.philb.com/webse.htm%252Bweb%252Bsearch%252Bengine%26hl%3Den%26%26ct%3Dclnk&sa=U&ved=0CEQQIDAJahUKEwjdoNTKge7HAhWENT4KHSRjD_U&usg=AFQjCNFEv3i9XP7oleTlcEIuxMBU4iLC4A\n",
      "/url?q=http://www.entireweb.com/&sa=U&ved=0CEcQFjAKahUKEwjdoNTKge7HAhWENT4KHSRjD_U&usg=AFQjCNHVp9XjWA9wc2gw4jgms8ZUsaWG2g\n",
      "/url?q=http://webcache.googleusercontent.com/search%3Fq%3Dcache:sp9HeLjQaxIJ:http://www.entireweb.com/%252Bweb%252Bsearch%252Bengine%26hl%3Den%26%26ct%3Dclnk&sa=U&ved=0CEoQIDAKahUKEwjdoNTKge7HAhWENT4KHSRjD_U&usg=AFQjCNFTIVfHPjX42QPWoYjev3430O7FGg\n",
      "/url?q=https://search.yahoo.com/&sa=U&ved=0CE0QFjALahUKEwjdoNTKge7HAhWENT4KHSRjD_U&usg=AFQjCNGfWZzRsWywHXaMGDCBm9TNobCkdA\n",
      "/url?q=http://webcache.googleusercontent.com/search%3Fq%3Dcache:cy2SVMUCL_IJ:https://search.yahoo.com/%252Bweb%252Bsearch%252Bengine%26hl%3Den%26%26ct%3Dclnk&sa=U&ved=0CFAQIDALahUKEwjdoNTKge7HAhWENT4KHSRjD_U&usg=AFQjCNHEfzWOz40FFUpep0YD8jYsUpx84A\n",
      "/url?q=https://startpage.com/&sa=U&ved=0CFMQFjAMahUKEwjdoNTKge7HAhWENT4KHSRjD_U&usg=AFQjCNHSQc0NAHwL44iHCZxNifhtb8HGDA\n",
      "/url?q=http://webcache.googleusercontent.com/search%3Fq%3Dcache:-J3pFtc35HMJ:https://startpage.com/%252Bweb%252Bsearch%252Bengine%26hl%3Den%26%26ct%3Dclnk&sa=U&ved=0CFYQIDAMahUKEwjdoNTKge7HAhWENT4KHSRjD_U&usg=AFQjCNHDwEjqZOKPQLafsdWgmK9zd9NeBg\n",
      "/url?q=https://www.bing.com/&sa=U&ved=0CFkQFjANahUKEwjdoNTKge7HAhWENT4KHSRjD_U&usg=AFQjCNEYhVQZtJmHzKLatmEVvbwYoaiXBA\n",
      "/url?q=http://webcache.googleusercontent.com/search%3Fq%3Dcache:msXyeuFPtP0J:https://www.bing.com/%252Bweb%252Bsearch%252Bengine%26hl%3Den%26%26ct%3Dclnk&sa=U&ved=0CFwQIDANahUKEwjdoNTKge7HAhWENT4KHSRjD_U&usg=AFQjCNEHFI7nKlA0L13-yRJXEjGJ6bpJgg\n",
      "/url?q=/settings/ads/preferences%3Fhl%3Den&sa=U&ved=0CGMQgRNqFQoTCN2g1MqB7scCFYQ1PgodJGMP9Q&usg=AFQjCNEAXNOZ62ka46D3FTH_48RcIwnQgw\n",
      "/url?q=/settings/ads/preferences%3Fhl%3Den&sa=U&ved=0CG0QgRNqFQoTCN2g1MqB7scCFYQ1PgodJGMP9Q&usg=AFQjCNEAXNOZ62ka46D3FTH_48RcIwnQgw\n",
      "/url?q=/settings/ads/preferences%3Fhl%3Den&sa=U&ved=0CHIQgRNqFQoTCN2g1MqB7scCFYQ1PgodJGMP9Q&usg=AFQjCNEAXNOZ62ka46D3FTH_48RcIwnQgw\n"
     ]
    }
   ],
   "source": [
    "import re\n",
    "from lxml import etree\n",
    "import xml.etree.ElementTree as ET\n",
    "\n",
    "\n",
    "'''\n",
    "data = data.replace('doctype', 'DOCTYPE')\n",
    "#data = re.sub('&(?!#?[a-z0-9]+;)', '&amp;', data)\n",
    "\n",
    "#print data[13514:13525]\n",
    "data = re.sub('<script.*?\\/script>', '', data)\n",
    "#print data[13514:13525]\n",
    "data = re.sub('<style.*?\\/style>', '', data)\n",
    "\n",
    "print len(data)\n",
    "print data\n",
    "#etree.fromstring(data)\n",
    "ET.fromstring(data)\n",
    "'''\n",
    "\n",
    "from bs4 import BeautifulSoup\n",
    "\n",
    "fd = open('google.xml')\n",
    "data = fd.read()\n",
    "soup = BeautifulSoup(data, 'html.parser')\n",
    "\n",
    "#soup.find_all('a') \n",
    "#print(soup.prettify())\n",
    "\n",
    "for link in soup.find_all('a'):\n",
    "    if link.get('href').startswith('/url?'):\n",
    "        print(link.get('href'))\n"
   ]
  },
  {
   "cell_type": "markdown",
   "metadata": {},
   "source": [
    "### experiment"
   ]
  },
  {
   "cell_type": "code",
   "execution_count": 3,
   "metadata": {
    "collapsed": false
   },
   "outputs": [
    {
     "name": "stdout",
     "output_type": "stream",
     "text": [
      "sdfsdf\n"
     ]
    }
   ],
   "source": [
    "import os\n",
    "\n",
    "print 'sdfsdf'\n",
    "\n"
   ]
  },
  {
   "cell_type": "code",
   "execution_count": null,
   "metadata": {
    "collapsed": true
   },
   "outputs": [],
   "source": []
  }
 ],
 "metadata": {
  "kernelspec": {
   "display_name": "Python 2",
   "language": "python",
   "name": "python2"
  },
  "language_info": {
   "codemirror_mode": {
    "name": "ipython",
    "version": 2
   },
   "file_extension": ".py",
   "mimetype": "text/x-python",
   "name": "python",
   "nbconvert_exporter": "python",
   "pygments_lexer": "ipython2",
   "version": "2.7.10"
  }
 },
 "nbformat": 4,
 "nbformat_minor": 0
}
